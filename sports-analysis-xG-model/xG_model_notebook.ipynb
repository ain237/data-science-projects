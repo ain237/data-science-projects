{
 "cells": [
  {
   "cell_type": "code",
   "execution_count": 1,
   "metadata": {},
   "outputs": [],
   "source": [
    "#Load libraries\n",
    "\n",
    "import numpy as np\n",
    "import pandas as pd\n",
    "import math\n",
    "import random\n",
    "import sklearn\n",
    "\n",
    "from sklearn.linear_model import LogisticRegression\n",
    "from sklearn.model_selection import train_test_split\n",
    "from sklearn.metrics import accuracy_score\n",
    "from sklearn.model_selection import train_test_split #Data split function\n",
    "from sklearn.metrics import confusion_matrix\n",
    "from sklearn.metrics import plot_confusion_matrix\n"
   ]
  },
  {
   "cell_type": "code",
   "execution_count": 2,
   "metadata": {},
   "outputs": [],
   "source": [
    "#This notebook is second version the project. The original data was not available, so we'll convert our data to a format that resembles the original data.\n",
    "#The script inside of the first for loop modified from https://github.com/Friends-of-Tracking-Data-FoTD/SoccermaticsForPython/blob/master/3xGModel.py\n",
    "\n",
    "\n",
    "def minimal_data(df):\n",
    "    \n",
    "    train = pd.DataFrame(df)\n",
    "    pd.unique(train['subEventName'])\n",
    "    shots=train[train['subEventName']=='Shot']\n",
    "    minimal_df=pd.DataFrame(columns=['goal','x','y'])\n",
    "\n",
    "    for i,shot in shots.iterrows():\n",
    "    \n",
    "        stop=0       \n",
    "        if not(stop):        \n",
    "            minimal_df.at[i,'x']=100-shot['positions'][0]['x']\n",
    "            minimal_df.at[i,'y']=shot['positions'][0]['y']\n",
    "\n",
    "            #Was it a goal\n",
    "            minimal_df.at[i,'goal']=0\n",
    "            for shottags in shot['tags']:\n",
    "                    #Tags contain that its a goal\n",
    "                    if shottags['id']==101:\n",
    "                        minimal_df.at[i,'goal']=1\n",
    "                        \n",
    "            for shottags in shot['tags']:\n",
    "                    if shottags['id']==403:\n",
    "                        minimal_df.at[i,'head']=1\n",
    "                        minimal_df.at[i,'foot']=0\n",
    "\n",
    "                    else:\n",
    "                        minimal_df.at[i,'head']=0\n",
    "                        minimal_df.at[i,'foot']=1\n",
    "\n",
    "                        \n",
    "    minimal_df['x'] = minimal_df['x'].astype('int64')\n",
    "    minimal_df['y'] = minimal_df['y'].astype('int64')\n",
    "    minimal_df['goal'] = minimal_df['goal'].astype('int64')\n",
    "\n",
    "    #Mirror X-coordinates if the shot is from the side X < 50\n",
    "    \n",
    "    counter = 0\n",
    "    xnormal = minimal_df['x'].tolist()\n",
    "    xmirror = []\n",
    "    for i in range(len(xnormal)):\n",
    "        f = 0        \n",
    "        x=xnormal[counter]\n",
    "        if x < 50:\n",
    "            f = 100 - x\n",
    "        else:\n",
    "            f = x\n",
    "        xmirror.append(f)\n",
    "        counter = counter + 1\n",
    "    \n",
    "    del minimal_df['x']\n",
    "    minimal_df['x'] = xmirror\n",
    "\n",
    "\n",
    "\n",
    "    return(minimal_df[['x','y','goal','head','foot']])\n"
   ]
  },
  {
   "cell_type": "markdown",
   "metadata": {},
   "source": [
    "# Load data"
   ]
  },
  {
   "cell_type": "code",
   "execution_count": 3,
   "metadata": {},
   "outputs": [
    {
     "name": "stdout",
     "output_type": "stream",
     "text": [
      "shots_euro_champ done\n",
      "shots_france done\n",
      "shots_germany done\n",
      "shots_italy done\n",
      "shots_spain done\n"
     ]
    }
   ],
   "source": [
    "shots_euro_champ = minimal_data(pd.read_json('data/events_European_Championship.json'))\n",
    "print('shots_euro_champ done')\n",
    "shots_france = minimal_data(pd.read_json('data/events_France.json'))\n",
    "print('shots_france done')\n",
    "shots_germany = minimal_data(pd.read_json('data/events_Germany.json'))\n",
    "print('shots_germany done')\n",
    "shots_italy = minimal_data(pd.read_json('data/events_Italy.json'))\n",
    "print('shots_italy done')\n",
    "shots_spain = minimal_data(pd.read_json('data/events_Spain.json'))\n",
    "print('shots_spain done')\n",
    "shots_world_cup = minimal_data(pd.read_json('data/events_World_Cup.json'))\n"
   ]
  },
  {
   "cell_type": "code",
   "execution_count": 4,
   "metadata": {},
   "outputs": [
    {
     "data": {
      "text/html": [
       "<div>\n",
       "<style scoped>\n",
       "    .dataframe tbody tr th:only-of-type {\n",
       "        vertical-align: middle;\n",
       "    }\n",
       "\n",
       "    .dataframe tbody tr th {\n",
       "        vertical-align: top;\n",
       "    }\n",
       "\n",
       "    .dataframe thead th {\n",
       "        text-align: right;\n",
       "    }\n",
       "</style>\n",
       "<table border=\"1\" class=\"dataframe\">\n",
       "  <thead>\n",
       "    <tr style=\"text-align: right;\">\n",
       "      <th></th>\n",
       "      <th>x</th>\n",
       "      <th>y</th>\n",
       "      <th>goal</th>\n",
       "      <th>head</th>\n",
       "      <th>foot</th>\n",
       "    </tr>\n",
       "  </thead>\n",
       "  <tbody>\n",
       "    <tr>\n",
       "      <th>213</th>\n",
       "      <td>94</td>\n",
       "      <td>57</td>\n",
       "      <td>1</td>\n",
       "      <td>0.0</td>\n",
       "      <td>1.0</td>\n",
       "    </tr>\n",
       "    <tr>\n",
       "      <th>302</th>\n",
       "      <td>83</td>\n",
       "      <td>42</td>\n",
       "      <td>0</td>\n",
       "      <td>0.0</td>\n",
       "      <td>1.0</td>\n",
       "    </tr>\n",
       "    <tr>\n",
       "      <th>498</th>\n",
       "      <td>96</td>\n",
       "      <td>43</td>\n",
       "      <td>1</td>\n",
       "      <td>0.0</td>\n",
       "      <td>1.0</td>\n",
       "    </tr>\n",
       "    <tr>\n",
       "      <th>577</th>\n",
       "      <td>84</td>\n",
       "      <td>21</td>\n",
       "      <td>0</td>\n",
       "      <td>0.0</td>\n",
       "      <td>1.0</td>\n",
       "    </tr>\n",
       "    <tr>\n",
       "      <th>629</th>\n",
       "      <td>73</td>\n",
       "      <td>51</td>\n",
       "      <td>0</td>\n",
       "      <td>0.0</td>\n",
       "      <td>1.0</td>\n",
       "    </tr>\n",
       "  </tbody>\n",
       "</table>\n",
       "</div>"
      ],
      "text/plain": [
       "      x   y  goal  head  foot\n",
       "213  94  57     1   0.0   1.0\n",
       "302  83  42     0   0.0   1.0\n",
       "498  96  43     1   0.0   1.0\n",
       "577  84  21     0   0.0   1.0\n",
       "629  73  51     0   0.0   1.0"
      ]
     },
     "execution_count": 4,
     "metadata": {},
     "output_type": "execute_result"
    }
   ],
   "source": [
    "shots_france.head()"
   ]
  },
  {
   "cell_type": "code",
   "execution_count": 5,
   "metadata": {},
   "outputs": [
    {
     "data": {
      "text/html": [
       "<div>\n",
       "<style scoped>\n",
       "    .dataframe tbody tr th:only-of-type {\n",
       "        vertical-align: middle;\n",
       "    }\n",
       "\n",
       "    .dataframe tbody tr th {\n",
       "        vertical-align: top;\n",
       "    }\n",
       "\n",
       "    .dataframe thead th {\n",
       "        text-align: right;\n",
       "    }\n",
       "</style>\n",
       "<table border=\"1\" class=\"dataframe\">\n",
       "  <thead>\n",
       "    <tr style=\"text-align: right;\">\n",
       "      <th></th>\n",
       "      <th>x</th>\n",
       "      <th>y</th>\n",
       "      <th>goal</th>\n",
       "      <th>head</th>\n",
       "      <th>foot</th>\n",
       "    </tr>\n",
       "  </thead>\n",
       "  <tbody>\n",
       "    <tr>\n",
       "      <th>104</th>\n",
       "      <td>83</td>\n",
       "      <td>66</td>\n",
       "      <td>0</td>\n",
       "      <td>0.0</td>\n",
       "      <td>1.0</td>\n",
       "    </tr>\n",
       "    <tr>\n",
       "      <th>178</th>\n",
       "      <td>95</td>\n",
       "      <td>59</td>\n",
       "      <td>1</td>\n",
       "      <td>0.0</td>\n",
       "      <td>1.0</td>\n",
       "    </tr>\n",
       "    <tr>\n",
       "      <th>216</th>\n",
       "      <td>91</td>\n",
       "      <td>66</td>\n",
       "      <td>0</td>\n",
       "      <td>0.0</td>\n",
       "      <td>1.0</td>\n",
       "    </tr>\n",
       "    <tr>\n",
       "      <th>220</th>\n",
       "      <td>88</td>\n",
       "      <td>49</td>\n",
       "      <td>0</td>\n",
       "      <td>0.0</td>\n",
       "      <td>1.0</td>\n",
       "    </tr>\n",
       "    <tr>\n",
       "      <th>313</th>\n",
       "      <td>74</td>\n",
       "      <td>42</td>\n",
       "      <td>0</td>\n",
       "      <td>0.0</td>\n",
       "      <td>1.0</td>\n",
       "    </tr>\n",
       "  </tbody>\n",
       "</table>\n",
       "</div>"
      ],
      "text/plain": [
       "      x   y  goal  head  foot\n",
       "104  83  66     0   0.0   1.0\n",
       "178  95  59     1   0.0   1.0\n",
       "216  91  66     0   0.0   1.0\n",
       "220  88  49     0   0.0   1.0\n",
       "313  74  42     0   0.0   1.0"
      ]
     },
     "execution_count": 5,
     "metadata": {},
     "output_type": "execute_result"
    }
   ],
   "source": [
    "shots_germany.head()"
   ]
  },
  {
   "cell_type": "code",
   "execution_count": 6,
   "metadata": {},
   "outputs": [
    {
     "data": {
      "text/html": [
       "<div>\n",
       "<style scoped>\n",
       "    .dataframe tbody tr th:only-of-type {\n",
       "        vertical-align: middle;\n",
       "    }\n",
       "\n",
       "    .dataframe tbody tr th {\n",
       "        vertical-align: top;\n",
       "    }\n",
       "\n",
       "    .dataframe thead th {\n",
       "        text-align: right;\n",
       "    }\n",
       "</style>\n",
       "<table border=\"1\" class=\"dataframe\">\n",
       "  <thead>\n",
       "    <tr style=\"text-align: right;\">\n",
       "      <th></th>\n",
       "      <th>x</th>\n",
       "      <th>y</th>\n",
       "      <th>goal</th>\n",
       "      <th>head</th>\n",
       "      <th>foot</th>\n",
       "    </tr>\n",
       "  </thead>\n",
       "  <tbody>\n",
       "    <tr>\n",
       "      <th>68</th>\n",
       "      <td>80</td>\n",
       "      <td>41</td>\n",
       "      <td>0</td>\n",
       "      <td>0.0</td>\n",
       "      <td>1.0</td>\n",
       "    </tr>\n",
       "    <tr>\n",
       "      <th>90</th>\n",
       "      <td>95</td>\n",
       "      <td>33</td>\n",
       "      <td>0</td>\n",
       "      <td>0.0</td>\n",
       "      <td>1.0</td>\n",
       "    </tr>\n",
       "    <tr>\n",
       "      <th>213</th>\n",
       "      <td>72</td>\n",
       "      <td>63</td>\n",
       "      <td>0</td>\n",
       "      <td>0.0</td>\n",
       "      <td>1.0</td>\n",
       "    </tr>\n",
       "    <tr>\n",
       "      <th>426</th>\n",
       "      <td>91</td>\n",
       "      <td>62</td>\n",
       "      <td>0</td>\n",
       "      <td>0.0</td>\n",
       "      <td>1.0</td>\n",
       "    </tr>\n",
       "    <tr>\n",
       "      <th>435</th>\n",
       "      <td>86</td>\n",
       "      <td>26</td>\n",
       "      <td>0</td>\n",
       "      <td>0.0</td>\n",
       "      <td>1.0</td>\n",
       "    </tr>\n",
       "  </tbody>\n",
       "</table>\n",
       "</div>"
      ],
      "text/plain": [
       "      x   y  goal  head  foot\n",
       "68   80  41     0   0.0   1.0\n",
       "90   95  33     0   0.0   1.0\n",
       "213  72  63     0   0.0   1.0\n",
       "426  91  62     0   0.0   1.0\n",
       "435  86  26     0   0.0   1.0"
      ]
     },
     "execution_count": 6,
     "metadata": {},
     "output_type": "execute_result"
    }
   ],
   "source": [
    "shots_italy.head()"
   ]
  },
  {
   "cell_type": "code",
   "execution_count": 7,
   "metadata": {},
   "outputs": [
    {
     "data": {
      "text/html": [
       "<div>\n",
       "<style scoped>\n",
       "    .dataframe tbody tr th:only-of-type {\n",
       "        vertical-align: middle;\n",
       "    }\n",
       "\n",
       "    .dataframe tbody tr th {\n",
       "        vertical-align: top;\n",
       "    }\n",
       "\n",
       "    .dataframe thead th {\n",
       "        text-align: right;\n",
       "    }\n",
       "</style>\n",
       "<table border=\"1\" class=\"dataframe\">\n",
       "  <thead>\n",
       "    <tr style=\"text-align: right;\">\n",
       "      <th></th>\n",
       "      <th>x</th>\n",
       "      <th>y</th>\n",
       "      <th>goal</th>\n",
       "      <th>head</th>\n",
       "      <th>foot</th>\n",
       "    </tr>\n",
       "  </thead>\n",
       "  <tbody>\n",
       "    <tr>\n",
       "      <th>20</th>\n",
       "      <td>93</td>\n",
       "      <td>34</td>\n",
       "      <td>0</td>\n",
       "      <td>0.0</td>\n",
       "      <td>1.0</td>\n",
       "    </tr>\n",
       "    <tr>\n",
       "      <th>22</th>\n",
       "      <td>80</td>\n",
       "      <td>59</td>\n",
       "      <td>0</td>\n",
       "      <td>0.0</td>\n",
       "      <td>1.0</td>\n",
       "    </tr>\n",
       "    <tr>\n",
       "      <th>107</th>\n",
       "      <td>88</td>\n",
       "      <td>57</td>\n",
       "      <td>0</td>\n",
       "      <td>0.0</td>\n",
       "      <td>1.0</td>\n",
       "    </tr>\n",
       "    <tr>\n",
       "      <th>111</th>\n",
       "      <td>87</td>\n",
       "      <td>66</td>\n",
       "      <td>0</td>\n",
       "      <td>0.0</td>\n",
       "      <td>1.0</td>\n",
       "    </tr>\n",
       "    <tr>\n",
       "      <th>228</th>\n",
       "      <td>75</td>\n",
       "      <td>40</td>\n",
       "      <td>0</td>\n",
       "      <td>0.0</td>\n",
       "      <td>1.0</td>\n",
       "    </tr>\n",
       "  </tbody>\n",
       "</table>\n",
       "</div>"
      ],
      "text/plain": [
       "      x   y  goal  head  foot\n",
       "20   93  34     0   0.0   1.0\n",
       "22   80  59     0   0.0   1.0\n",
       "107  88  57     0   0.0   1.0\n",
       "111  87  66     0   0.0   1.0\n",
       "228  75  40     0   0.0   1.0"
      ]
     },
     "execution_count": 7,
     "metadata": {},
     "output_type": "execute_result"
    }
   ],
   "source": [
    "shots_spain.head()"
   ]
  },
  {
   "cell_type": "code",
   "execution_count": 8,
   "metadata": {},
   "outputs": [
    {
     "data": {
      "text/html": [
       "<div>\n",
       "<style scoped>\n",
       "    .dataframe tbody tr th:only-of-type {\n",
       "        vertical-align: middle;\n",
       "    }\n",
       "\n",
       "    .dataframe tbody tr th {\n",
       "        vertical-align: top;\n",
       "    }\n",
       "\n",
       "    .dataframe thead th {\n",
       "        text-align: right;\n",
       "    }\n",
       "</style>\n",
       "<table border=\"1\" class=\"dataframe\">\n",
       "  <thead>\n",
       "    <tr style=\"text-align: right;\">\n",
       "      <th></th>\n",
       "      <th>x</th>\n",
       "      <th>y</th>\n",
       "      <th>goal</th>\n",
       "      <th>head</th>\n",
       "      <th>foot</th>\n",
       "    </tr>\n",
       "  </thead>\n",
       "  <tbody>\n",
       "    <tr>\n",
       "      <th>117</th>\n",
       "      <td>87</td>\n",
       "      <td>27</td>\n",
       "      <td>0</td>\n",
       "      <td>0.0</td>\n",
       "      <td>1.0</td>\n",
       "    </tr>\n",
       "    <tr>\n",
       "      <th>154</th>\n",
       "      <td>90</td>\n",
       "      <td>69</td>\n",
       "      <td>0</td>\n",
       "      <td>0.0</td>\n",
       "      <td>1.0</td>\n",
       "    </tr>\n",
       "    <tr>\n",
       "      <th>197</th>\n",
       "      <td>86</td>\n",
       "      <td>30</td>\n",
       "      <td>0</td>\n",
       "      <td>0.0</td>\n",
       "      <td>1.0</td>\n",
       "    </tr>\n",
       "    <tr>\n",
       "      <th>232</th>\n",
       "      <td>93</td>\n",
       "      <td>60</td>\n",
       "      <td>1</td>\n",
       "      <td>0.0</td>\n",
       "      <td>1.0</td>\n",
       "    </tr>\n",
       "    <tr>\n",
       "      <th>372</th>\n",
       "      <td>86</td>\n",
       "      <td>38</td>\n",
       "      <td>0</td>\n",
       "      <td>0.0</td>\n",
       "      <td>1.0</td>\n",
       "    </tr>\n",
       "  </tbody>\n",
       "</table>\n",
       "</div>"
      ],
      "text/plain": [
       "      x   y  goal  head  foot\n",
       "117  87  27     0   0.0   1.0\n",
       "154  90  69     0   0.0   1.0\n",
       "197  86  30     0   0.0   1.0\n",
       "232  93  60     1   0.0   1.0\n",
       "372  86  38     0   0.0   1.0"
      ]
     },
     "execution_count": 8,
     "metadata": {},
     "output_type": "execute_result"
    }
   ],
   "source": [
    "shots_world_cup.head()"
   ]
  },
  {
   "cell_type": "markdown",
   "metadata": {},
   "source": [
    "## 1. Probabilities for making a goal from a certain spot"
   ]
  },
  {
   "cell_type": "code",
   "execution_count": 9,
   "metadata": {},
   "outputs": [],
   "source": [
    "#Adding all frames together, creating a simple dataset with coordinates and goals\n",
    "\n",
    "selected = ['x', 'y', 'goal']\n",
    "frame1 = shots_world_cup[selected]\n",
    "frame2 = shots_euro_champ[selected]\n",
    "frame3 = shots_france[selected]\n",
    "frame4 = shots_spain[selected]\n",
    "frame5 = shots_italy[selected]\n",
    "frame6 = shots_germany[selected]\n",
    "traindata = frame1.append([frame2,frame3,frame4,frame5,frame6])\n"
   ]
  },
  {
   "cell_type": "markdown",
   "metadata": {},
   "source": [
    "### 1.1 Calculate distances from goal and degrees of visibility\n",
    "\n",
    "This idea for calculating a xG model for soccer by using distances from goal + degrees of visibility is borrowed from this person:<br>\n",
    "https://www.youtube.com/watch?v=bpjLyFyLlXs<br>\n",
    "\n",
    "This method was explained as most useful when using Logistic Regression<br>\n",
    "All code is self-made, including all the math functions."
   ]
  },
  {
   "cell_type": "code",
   "execution_count": 10,
   "metadata": {},
   "outputs": [],
   "source": [
    "#Distance from goal\n",
    "#Goal midpoint coordinates:\n",
    "#x = 100\n",
    "#y = 50\n",
    "\n",
    "import math\n",
    "\n",
    "def goaldistance(xcoor,ycoor):\n",
    "    return math.sqrt(((100-xcoor)**2)+((50-ycoor)**2))\n"
   ]
  },
  {
   "cell_type": "code",
   "execution_count": 11,
   "metadata": {},
   "outputs": [
    {
     "name": "stdout",
     "output_type": "stream",
     "text": [
      "14.239707600105389\n"
     ]
    }
   ],
   "source": [
    "#Degrees of visibility to goal\n",
    "#Goal endpoint coordinates: (100,53) and (100,47)\n",
    "\n",
    "\n",
    "def goaldegrees(xcoor,ycoor):\n",
    "    if xcoor == 100:\n",
    "        return 0\n",
    "    else:\n",
    "        m1 = (53-ycoor)/(100-xcoor) + 0.00000001\n",
    "        m2 = (47-ycoor)/(100-xcoor) + 0.00000001\n",
    "        yyy = (m2-m1)/(1+(m2*m1))\n",
    "        ddd = abs(yyy)\n",
    "        atand=math.atan(ddd)  \n",
    "        degrs=math.degrees(atand)\n",
    "        return degrs\n",
    "\n",
    "#test\n",
    "print(goaldegrees(86,38))\n"
   ]
  },
  {
   "cell_type": "code",
   "execution_count": 12,
   "metadata": {},
   "outputs": [],
   "source": [
    "#Defining functions to add degrees and distances to a list\n",
    "\n",
    "def add_degrees(pdframe):\n",
    "    ylist = pdframe['y'].tolist()\n",
    "    xlist = pdframe['x'].tolist()\n",
    "    indx = 0\n",
    "    d_list = []\n",
    "    for x in xlist:\n",
    "        y=ylist[indx]\n",
    "        degr = goaldegrees(x,y)\n",
    "        d_list.append(degr)\n",
    "        indx = indx + 1\n",
    "    pdframe['goaldegrees']=d_list\n",
    "    \n",
    "def add_distances(pdframe):\n",
    "    ylist = pdframe['y'].tolist()\n",
    "    xlist = pdframe['x'].tolist()\n",
    "    indx = 0\n",
    "    dlist = []\n",
    "    for x in xlist:\n",
    "        y=ylist[indx]\n",
    "        dist = goaldistance(x,y)\n",
    "        dlist.append(dist)\n",
    "        indx = indx + 1\n",
    "    pdframe['distances']=dlist\n"
   ]
  },
  {
   "cell_type": "code",
   "execution_count": 13,
   "metadata": {},
   "outputs": [],
   "source": [
    "add_degrees(traindata)\n",
    "add_distances(traindata)"
   ]
  },
  {
   "cell_type": "code",
   "execution_count": 14,
   "metadata": {},
   "outputs": [
    {
     "data": {
      "text/html": [
       "<div>\n",
       "<style scoped>\n",
       "    .dataframe tbody tr th:only-of-type {\n",
       "        vertical-align: middle;\n",
       "    }\n",
       "\n",
       "    .dataframe tbody tr th {\n",
       "        vertical-align: top;\n",
       "    }\n",
       "\n",
       "    .dataframe thead th {\n",
       "        text-align: right;\n",
       "    }\n",
       "</style>\n",
       "<table border=\"1\" class=\"dataframe\">\n",
       "  <thead>\n",
       "    <tr style=\"text-align: right;\">\n",
       "      <th></th>\n",
       "      <th>x</th>\n",
       "      <th>y</th>\n",
       "      <th>goal</th>\n",
       "      <th>goaldegrees</th>\n",
       "      <th>distances</th>\n",
       "    </tr>\n",
       "  </thead>\n",
       "  <tbody>\n",
       "    <tr>\n",
       "      <th>117</th>\n",
       "      <td>87</td>\n",
       "      <td>27</td>\n",
       "      <td>0</td>\n",
       "      <td>6.458816</td>\n",
       "      <td>26.419690</td>\n",
       "    </tr>\n",
       "    <tr>\n",
       "      <th>154</th>\n",
       "      <td>90</td>\n",
       "      <td>69</td>\n",
       "      <td>0</td>\n",
       "      <td>7.561428</td>\n",
       "      <td>21.470911</td>\n",
       "    </tr>\n",
       "    <tr>\n",
       "      <th>197</th>\n",
       "      <td>86</td>\n",
       "      <td>30</td>\n",
       "      <td>0</td>\n",
       "      <td>8.143767</td>\n",
       "      <td>24.413111</td>\n",
       "    </tr>\n",
       "    <tr>\n",
       "      <th>232</th>\n",
       "      <td>93</td>\n",
       "      <td>60</td>\n",
       "      <td>1</td>\n",
       "      <td>16.699244</td>\n",
       "      <td>12.206556</td>\n",
       "    </tr>\n",
       "    <tr>\n",
       "      <th>372</th>\n",
       "      <td>86</td>\n",
       "      <td>38</td>\n",
       "      <td>0</td>\n",
       "      <td>14.239708</td>\n",
       "      <td>18.439089</td>\n",
       "    </tr>\n",
       "  </tbody>\n",
       "</table>\n",
       "</div>"
      ],
      "text/plain": [
       "      x   y  goal  goaldegrees  distances\n",
       "117  87  27     0     6.458816  26.419690\n",
       "154  90  69     0     7.561428  21.470911\n",
       "197  86  30     0     8.143767  24.413111\n",
       "232  93  60     1    16.699244  12.206556\n",
       "372  86  38     0    14.239708  18.439089"
      ]
     },
     "execution_count": 14,
     "metadata": {},
     "output_type": "execute_result"
    }
   ],
   "source": [
    "traindata.head()"
   ]
  },
  {
   "cell_type": "code",
   "execution_count": 15,
   "metadata": {},
   "outputs": [
    {
     "data": {
      "text/html": [
       "<div>\n",
       "<style scoped>\n",
       "    .dataframe tbody tr th:only-of-type {\n",
       "        vertical-align: middle;\n",
       "    }\n",
       "\n",
       "    .dataframe tbody tr th {\n",
       "        vertical-align: top;\n",
       "    }\n",
       "\n",
       "    .dataframe thead th {\n",
       "        text-align: right;\n",
       "    }\n",
       "</style>\n",
       "<table border=\"1\" class=\"dataframe\">\n",
       "  <thead>\n",
       "    <tr style=\"text-align: right;\">\n",
       "      <th></th>\n",
       "      <th>goal</th>\n",
       "      <th>goaldegrees</th>\n",
       "      <th>distances</th>\n",
       "    </tr>\n",
       "  </thead>\n",
       "  <tbody>\n",
       "    <tr>\n",
       "      <th>117</th>\n",
       "      <td>0</td>\n",
       "      <td>6.458816</td>\n",
       "      <td>26.419690</td>\n",
       "    </tr>\n",
       "    <tr>\n",
       "      <th>154</th>\n",
       "      <td>0</td>\n",
       "      <td>7.561428</td>\n",
       "      <td>21.470911</td>\n",
       "    </tr>\n",
       "    <tr>\n",
       "      <th>197</th>\n",
       "      <td>0</td>\n",
       "      <td>8.143767</td>\n",
       "      <td>24.413111</td>\n",
       "    </tr>\n",
       "    <tr>\n",
       "      <th>232</th>\n",
       "      <td>1</td>\n",
       "      <td>16.699244</td>\n",
       "      <td>12.206556</td>\n",
       "    </tr>\n",
       "    <tr>\n",
       "      <th>372</th>\n",
       "      <td>0</td>\n",
       "      <td>14.239708</td>\n",
       "      <td>18.439089</td>\n",
       "    </tr>\n",
       "  </tbody>\n",
       "</table>\n",
       "</div>"
      ],
      "text/plain": [
       "     goal  goaldegrees  distances\n",
       "117     0     6.458816  26.419690\n",
       "154     0     7.561428  21.470911\n",
       "197     0     8.143767  24.413111\n",
       "232     1    16.699244  12.206556\n",
       "372     0    14.239708  18.439089"
      ]
     },
     "execution_count": 15,
     "metadata": {},
     "output_type": "execute_result"
    }
   ],
   "source": [
    "#Removing xy coordinates\n",
    "\n",
    "traindata1 = traindata[['goal','goaldegrees','distances']]\n",
    "traindata1.head()\n"
   ]
  },
  {
   "cell_type": "code",
   "execution_count": 16,
   "metadata": {},
   "outputs": [
    {
     "data": {
      "text/plain": [
       "0    31049\n",
       "1     3578\n",
       "Name: goal, dtype: int64"
      ]
     },
     "execution_count": 16,
     "metadata": {},
     "output_type": "execute_result"
    }
   ],
   "source": [
    "traindata1['goal'].value_counts()\n"
   ]
  },
  {
   "cell_type": "code",
   "execution_count": 17,
   "metadata": {},
   "outputs": [
    {
     "data": {
      "text/plain": [
       "0    3578\n",
       "1    3578\n",
       "Name: goal, dtype: int64"
      ]
     },
     "execution_count": 17,
     "metadata": {},
     "output_type": "execute_result"
    }
   ],
   "source": [
    "#https://elitedatascience.com/imbalanced-classes\n",
    "\n",
    "from sklearn.utils import resample\n",
    "\n",
    "# Separate majority and minority classes\n",
    "df_majority = traindata1[traindata1.goal==0]\n",
    "df_minority = traindata1[traindata1.goal==1]\n",
    " \n",
    "# Downsample majority class\n",
    "df_majority_downsampled = resample(df_majority, \n",
    "                                 replace=False,    # sample without replacement\n",
    "                                 n_samples=3578,     # to match minority class\n",
    "                                 random_state=123) # reproducible results\n",
    " \n",
    "# Combine minority class with downsampled majority class\n",
    "goals_downsampled = pd.concat([df_majority_downsampled, df_minority])\n",
    " \n",
    "# Display new class counts\n",
    "goals_downsampled.goal.value_counts()\n"
   ]
  },
  {
   "cell_type": "code",
   "execution_count": null,
   "metadata": {},
   "outputs": [],
   "source": []
  },
  {
   "cell_type": "markdown",
   "metadata": {},
   "source": [
    "### 1.2. Train test split"
   ]
  },
  {
   "cell_type": "code",
   "execution_count": 18,
   "metadata": {},
   "outputs": [],
   "source": [
    "#set x,y, train test split + randomize\n",
    "\n",
    "y = goals_downsampled['goal'].values\n",
    "X = goals_downsampled.loc[:, goals_downsampled.columns != 'goal']\n",
    "X_train, X_test, y_train, y_test = train_test_split(X, y, test_size=0.3, random_state=1)\n"
   ]
  },
  {
   "cell_type": "code",
   "execution_count": null,
   "metadata": {},
   "outputs": [],
   "source": [
    "\n"
   ]
  },
  {
   "cell_type": "markdown",
   "metadata": {},
   "source": [
    "### 1.3. Logistic Regression"
   ]
  },
  {
   "cell_type": "code",
   "execution_count": 19,
   "metadata": {},
   "outputs": [],
   "source": [
    "#L2\n",
    "\n",
    "lr = LogisticRegression(solver='lbfgs').fit(X_train, y_train) #define Logistic Regression classifier\n"
   ]
  },
  {
   "cell_type": "code",
   "execution_count": 20,
   "metadata": {},
   "outputs": [
    {
     "name": "stdout",
     "output_type": "stream",
     "text": [
      "Accuracy is:  67.91\n"
     ]
    }
   ],
   "source": [
    "y_pred_lr = lr.predict(X_test)\n",
    "y_predProba_lr = lr.predict_proba(X_test)\n",
    "print (\"Accuracy is: \", (accuracy_score(y_test, y_pred_lr)*100).round(2))"
   ]
  },
  {
   "cell_type": "code",
   "execution_count": 21,
   "metadata": {},
   "outputs": [
    {
     "data": {
      "text/plain": [
       "array([[696, 364],\n",
       "       [325, 762]])"
      ]
     },
     "execution_count": 21,
     "metadata": {},
     "output_type": "execute_result"
    }
   ],
   "source": [
    "confusion_matrix(y_test, y_pred_lr)"
   ]
  },
  {
   "cell_type": "code",
   "execution_count": 22,
   "metadata": {},
   "outputs": [],
   "source": [
    "#testing the predictive capability\n",
    "rivi = X_test.iloc[[2]]"
   ]
  },
  {
   "cell_type": "code",
   "execution_count": 23,
   "metadata": {},
   "outputs": [
    {
     "data": {
      "text/html": [
       "<div>\n",
       "<style scoped>\n",
       "    .dataframe tbody tr th:only-of-type {\n",
       "        vertical-align: middle;\n",
       "    }\n",
       "\n",
       "    .dataframe tbody tr th {\n",
       "        vertical-align: top;\n",
       "    }\n",
       "\n",
       "    .dataframe thead th {\n",
       "        text-align: right;\n",
       "    }\n",
       "</style>\n",
       "<table border=\"1\" class=\"dataframe\">\n",
       "  <thead>\n",
       "    <tr style=\"text-align: right;\">\n",
       "      <th></th>\n",
       "      <th>goaldegrees</th>\n",
       "      <th>distances</th>\n",
       "    </tr>\n",
       "  </thead>\n",
       "  <tbody>\n",
       "    <tr>\n",
       "      <th>275404</th>\n",
       "      <td>15.499275</td>\n",
       "      <td>22.022716</td>\n",
       "    </tr>\n",
       "  </tbody>\n",
       "</table>\n",
       "</div>"
      ],
      "text/plain": [
       "        goaldegrees  distances\n",
       "275404    15.499275  22.022716"
      ]
     },
     "execution_count": 23,
     "metadata": {},
     "output_type": "execute_result"
    }
   ],
   "source": [
    "rivi.head()"
   ]
  },
  {
   "cell_type": "code",
   "execution_count": 24,
   "metadata": {},
   "outputs": [
    {
     "name": "stdout",
     "output_type": "stream",
     "text": [
      "[[0.65326826 0.34673174]]\n"
     ]
    }
   ],
   "source": [
    "testi = lr.predict_proba(rivi)\n",
    "print(testi)"
   ]
  },
  {
   "cell_type": "code",
   "execution_count": 25,
   "metadata": {},
   "outputs": [],
   "source": [
    "#Generating all coordinates for 100x100 matrix\n",
    "\n",
    "p_df=pd.DataFrame(columns=['x','y'])\n",
    "\n",
    "import itertools\n",
    "x_line = range(0,100)\n",
    "y_line = range(0,100)\n",
    "\n",
    "xvalues = []\n",
    "yvalues = []\n",
    "\n",
    "for item in list(itertools.product(x_line,y_line)):\n",
    "    xvalues.append(item[0])\n",
    "    yvalues.append(item[1])\n",
    "\n",
    "p_df['x'] = xvalues\n",
    "p_df['y'] = yvalues"
   ]
  },
  {
   "cell_type": "code",
   "execution_count": 26,
   "metadata": {},
   "outputs": [],
   "source": [
    "add_degrees(p_df)\n",
    "add_distances(p_df)\n"
   ]
  },
  {
   "cell_type": "code",
   "execution_count": 27,
   "metadata": {},
   "outputs": [
    {
     "data": {
      "text/html": [
       "<div>\n",
       "<style scoped>\n",
       "    .dataframe tbody tr th:only-of-type {\n",
       "        vertical-align: middle;\n",
       "    }\n",
       "\n",
       "    .dataframe tbody tr th {\n",
       "        vertical-align: top;\n",
       "    }\n",
       "\n",
       "    .dataframe thead th {\n",
       "        text-align: right;\n",
       "    }\n",
       "</style>\n",
       "<table border=\"1\" class=\"dataframe\">\n",
       "  <thead>\n",
       "    <tr style=\"text-align: right;\">\n",
       "      <th></th>\n",
       "      <th>goaldegrees</th>\n",
       "      <th>distances</th>\n",
       "    </tr>\n",
       "  </thead>\n",
       "  <tbody>\n",
       "    <tr>\n",
       "      <th>0</th>\n",
       "      <td>2.750065</td>\n",
       "      <td>111.803399</td>\n",
       "    </tr>\n",
       "    <tr>\n",
       "      <th>1</th>\n",
       "      <td>2.772001</td>\n",
       "      <td>111.359777</td>\n",
       "    </tr>\n",
       "    <tr>\n",
       "      <th>2</th>\n",
       "      <td>2.793836</td>\n",
       "      <td>110.923397</td>\n",
       "    </tr>\n",
       "    <tr>\n",
       "      <th>3</th>\n",
       "      <td>2.815557</td>\n",
       "      <td>110.494344</td>\n",
       "    </tr>\n",
       "    <tr>\n",
       "      <th>4</th>\n",
       "      <td>2.837149</td>\n",
       "      <td>110.072703</td>\n",
       "    </tr>\n",
       "  </tbody>\n",
       "</table>\n",
       "</div>"
      ],
      "text/plain": [
       "   goaldegrees   distances\n",
       "0     2.750065  111.803399\n",
       "1     2.772001  111.359777\n",
       "2     2.793836  110.923397\n",
       "3     2.815557  110.494344\n",
       "4     2.837149  110.072703"
      ]
     },
     "execution_count": 27,
     "metadata": {},
     "output_type": "execute_result"
    }
   ],
   "source": [
    "#taking the xy coordinates away\n",
    "p_df1=p_df[['goaldegrees','distances']]\n",
    "p_df1.head()"
   ]
  },
  {
   "cell_type": "code",
   "execution_count": 28,
   "metadata": {},
   "outputs": [
    {
     "name": "stdout",
     "output_type": "stream",
     "text": [
      "[1e-05, 1e-05, 2e-05, 2e-05, 2e-05]\n"
     ]
    }
   ],
   "source": [
    "#Generating predictions for the selected XY coordinates using LR\n",
    "\n",
    "pred_list = []\n",
    "counter = -1\n",
    "\n",
    "for x in range(len(p_df1)):\n",
    "    counter = counter + 1\n",
    "    p = lr.predict_proba(p_df1.iloc[[counter]])\n",
    "    r = p[0][1]\n",
    "    f = round(r, 5)\n",
    "    pred_list.append(f)\n",
    "\n",
    "\n",
    "#Test\n",
    "print(pred_list[:5]) "
   ]
  },
  {
   "cell_type": "code",
   "execution_count": 29,
   "metadata": {},
   "outputs": [
    {
     "name": "stderr",
     "output_type": "stream",
     "text": [
      "<ipython-input-29-8ab2a90e8ec7>:2: SettingWithCopyWarning: \n",
      "A value is trying to be set on a copy of a slice from a DataFrame.\n",
      "Try using .loc[row_indexer,col_indexer] = value instead\n",
      "\n",
      "See the caveats in the documentation: https://pandas.pydata.org/pandas-docs/stable/user_guide/indexing.html#returning-a-view-versus-a-copy\n",
      "  p_df1['prediction'] = pred_list\n"
     ]
    },
    {
     "data": {
      "text/html": [
       "<div>\n",
       "<style scoped>\n",
       "    .dataframe tbody tr th:only-of-type {\n",
       "        vertical-align: middle;\n",
       "    }\n",
       "\n",
       "    .dataframe tbody tr th {\n",
       "        vertical-align: top;\n",
       "    }\n",
       "\n",
       "    .dataframe thead th {\n",
       "        text-align: right;\n",
       "    }\n",
       "</style>\n",
       "<table border=\"1\" class=\"dataframe\">\n",
       "  <thead>\n",
       "    <tr style=\"text-align: right;\">\n",
       "      <th></th>\n",
       "      <th>goaldegrees</th>\n",
       "      <th>distances</th>\n",
       "      <th>prediction</th>\n",
       "    </tr>\n",
       "  </thead>\n",
       "  <tbody>\n",
       "    <tr>\n",
       "      <th>0</th>\n",
       "      <td>2.750065</td>\n",
       "      <td>111.803399</td>\n",
       "      <td>0.00001</td>\n",
       "    </tr>\n",
       "    <tr>\n",
       "      <th>1</th>\n",
       "      <td>2.772001</td>\n",
       "      <td>111.359777</td>\n",
       "      <td>0.00001</td>\n",
       "    </tr>\n",
       "    <tr>\n",
       "      <th>2</th>\n",
       "      <td>2.793836</td>\n",
       "      <td>110.923397</td>\n",
       "      <td>0.00002</td>\n",
       "    </tr>\n",
       "    <tr>\n",
       "      <th>3</th>\n",
       "      <td>2.815557</td>\n",
       "      <td>110.494344</td>\n",
       "      <td>0.00002</td>\n",
       "    </tr>\n",
       "    <tr>\n",
       "      <th>4</th>\n",
       "      <td>2.837149</td>\n",
       "      <td>110.072703</td>\n",
       "      <td>0.00002</td>\n",
       "    </tr>\n",
       "  </tbody>\n",
       "</table>\n",
       "</div>"
      ],
      "text/plain": [
       "   goaldegrees   distances  prediction\n",
       "0     2.750065  111.803399     0.00001\n",
       "1     2.772001  111.359777     0.00001\n",
       "2     2.793836  110.923397     0.00002\n",
       "3     2.815557  110.494344     0.00002\n",
       "4     2.837149  110.072703     0.00002"
      ]
     },
     "execution_count": 29,
     "metadata": {},
     "output_type": "execute_result"
    }
   ],
   "source": [
    "#Adding prediction to the list\n",
    "p_df1['prediction'] = pred_list\n",
    "p_df1.head()"
   ]
  },
  {
   "cell_type": "code",
   "execution_count": 30,
   "metadata": {},
   "outputs": [
    {
     "name": "stdout",
     "output_type": "stream",
     "text": [
      "<class 'pandas.core.frame.DataFrame'>\n",
      "RangeIndex: 10000 entries, 0 to 9999\n",
      "Data columns (total 3 columns):\n",
      " #   Column       Non-Null Count  Dtype  \n",
      "---  ------       --------------  -----  \n",
      " 0   goaldegrees  10000 non-null  float64\n",
      " 1   distances    10000 non-null  float64\n",
      " 2   prediction   10000 non-null  float64\n",
      "dtypes: float64(3)\n",
      "memory usage: 234.5 KB\n"
     ]
    }
   ],
   "source": [
    "#Double check to see if uneven list lenght was somehow introduced\n",
    "p_df1.info()"
   ]
  },
  {
   "cell_type": "code",
   "execution_count": 31,
   "metadata": {},
   "outputs": [],
   "source": [
    "import seaborn as sns\n",
    "import matplotlib.pyplot as plt"
   ]
  },
  {
   "cell_type": "code",
   "execution_count": 32,
   "metadata": {},
   "outputs": [
    {
     "name": "stdout",
     "output_type": "stream",
     "text": [
      "<class 'pandas.core.frame.DataFrame'>\n",
      "RangeIndex: 10000 entries, 0 to 9999\n",
      "Data columns (total 3 columns):\n",
      " #   Column      Non-Null Count  Dtype  \n",
      "---  ------      --------------  -----  \n",
      " 0   x           10000 non-null  int64  \n",
      " 1   y           10000 non-null  int64  \n",
      " 2   prediction  10000 non-null  float64\n",
      "dtypes: float64(1), int64(2)\n",
      "memory usage: 234.5 KB\n"
     ]
    },
    {
     "name": "stderr",
     "output_type": "stream",
     "text": [
      "<ipython-input-32-beb2f798e226>:3: SettingWithCopyWarning: \n",
      "A value is trying to be set on a copy of a slice from a DataFrame.\n",
      "Try using .loc[row_indexer,col_indexer] = value instead\n",
      "\n",
      "See the caveats in the documentation: https://pandas.pydata.org/pandas-docs/stable/user_guide/indexing.html#returning-a-view-versus-a-copy\n",
      "  hm1['prediction'] = p_df1['prediction']\n"
     ]
    }
   ],
   "source": [
    "#Creating a dataframe for using with heatmap with the original xy coordinates\n",
    "hm1 = p_df[['x','y',]] \n",
    "hm1['prediction'] = p_df1['prediction']\n",
    "hm1.info()"
   ]
  },
  {
   "cell_type": "code",
   "execution_count": 33,
   "metadata": {},
   "outputs": [],
   "source": [
    "#Creating a pivot table with XY coordinates\n",
    "\n",
    "hm_gp = pd.pivot_table(data=hm1,\n",
    "                      index='y',\n",
    "                      values='prediction',\n",
    "                      columns='x')\n",
    "hm_gp.fillna(0, inplace=True)"
   ]
  },
  {
   "cell_type": "code",
   "execution_count": 34,
   "metadata": {},
   "outputs": [
    {
     "data": {
      "text/html": [
       "<div>\n",
       "<style scoped>\n",
       "    .dataframe tbody tr th:only-of-type {\n",
       "        vertical-align: middle;\n",
       "    }\n",
       "\n",
       "    .dataframe tbody tr th {\n",
       "        vertical-align: top;\n",
       "    }\n",
       "\n",
       "    .dataframe thead th {\n",
       "        text-align: right;\n",
       "    }\n",
       "</style>\n",
       "<table border=\"1\" class=\"dataframe\">\n",
       "  <thead>\n",
       "    <tr style=\"text-align: right;\">\n",
       "      <th>x</th>\n",
       "      <th>0</th>\n",
       "      <th>1</th>\n",
       "      <th>2</th>\n",
       "      <th>3</th>\n",
       "      <th>4</th>\n",
       "      <th>5</th>\n",
       "      <th>6</th>\n",
       "      <th>7</th>\n",
       "      <th>8</th>\n",
       "      <th>9</th>\n",
       "      <th>...</th>\n",
       "      <th>90</th>\n",
       "      <th>91</th>\n",
       "      <th>92</th>\n",
       "      <th>93</th>\n",
       "      <th>94</th>\n",
       "      <th>95</th>\n",
       "      <th>96</th>\n",
       "      <th>97</th>\n",
       "      <th>98</th>\n",
       "      <th>99</th>\n",
       "    </tr>\n",
       "    <tr>\n",
       "      <th>y</th>\n",
       "      <th></th>\n",
       "      <th></th>\n",
       "      <th></th>\n",
       "      <th></th>\n",
       "      <th></th>\n",
       "      <th></th>\n",
       "      <th></th>\n",
       "      <th></th>\n",
       "      <th></th>\n",
       "      <th></th>\n",
       "      <th></th>\n",
       "      <th></th>\n",
       "      <th></th>\n",
       "      <th></th>\n",
       "      <th></th>\n",
       "      <th></th>\n",
       "      <th></th>\n",
       "      <th></th>\n",
       "      <th></th>\n",
       "      <th></th>\n",
       "      <th></th>\n",
       "    </tr>\n",
       "  </thead>\n",
       "  <tbody>\n",
       "    <tr>\n",
       "      <th>0</th>\n",
       "      <td>0.00001</td>\n",
       "      <td>0.00002</td>\n",
       "      <td>0.00002</td>\n",
       "      <td>0.00002</td>\n",
       "      <td>0.00002</td>\n",
       "      <td>0.00002</td>\n",
       "      <td>0.00003</td>\n",
       "      <td>0.00003</td>\n",
       "      <td>0.00003</td>\n",
       "      <td>0.00003</td>\n",
       "      <td>...</td>\n",
       "      <td>0.01619</td>\n",
       "      <td>0.01652</td>\n",
       "      <td>0.01683</td>\n",
       "      <td>0.01710</td>\n",
       "      <td>0.01734</td>\n",
       "      <td>0.01755</td>\n",
       "      <td>0.01771</td>\n",
       "      <td>0.01784</td>\n",
       "      <td>0.01793</td>\n",
       "      <td>0.01797</td>\n",
       "    </tr>\n",
       "    <tr>\n",
       "      <th>1</th>\n",
       "      <td>0.00001</td>\n",
       "      <td>0.00002</td>\n",
       "      <td>0.00002</td>\n",
       "      <td>0.00002</td>\n",
       "      <td>0.00002</td>\n",
       "      <td>0.00002</td>\n",
       "      <td>0.00003</td>\n",
       "      <td>0.00003</td>\n",
       "      <td>0.00003</td>\n",
       "      <td>0.00004</td>\n",
       "      <td>...</td>\n",
       "      <td>0.01812</td>\n",
       "      <td>0.01850</td>\n",
       "      <td>0.01885</td>\n",
       "      <td>0.01916</td>\n",
       "      <td>0.01944</td>\n",
       "      <td>0.01967</td>\n",
       "      <td>0.01986</td>\n",
       "      <td>0.02000</td>\n",
       "      <td>0.02010</td>\n",
       "      <td>0.02015</td>\n",
       "    </tr>\n",
       "    <tr>\n",
       "      <th>2</th>\n",
       "      <td>0.00002</td>\n",
       "      <td>0.00002</td>\n",
       "      <td>0.00002</td>\n",
       "      <td>0.00002</td>\n",
       "      <td>0.00002</td>\n",
       "      <td>0.00003</td>\n",
       "      <td>0.00003</td>\n",
       "      <td>0.00003</td>\n",
       "      <td>0.00004</td>\n",
       "      <td>0.00004</td>\n",
       "      <td>...</td>\n",
       "      <td>0.02027</td>\n",
       "      <td>0.02071</td>\n",
       "      <td>0.02111</td>\n",
       "      <td>0.02147</td>\n",
       "      <td>0.02178</td>\n",
       "      <td>0.02204</td>\n",
       "      <td>0.02226</td>\n",
       "      <td>0.02242</td>\n",
       "      <td>0.02253</td>\n",
       "      <td>0.02259</td>\n",
       "    </tr>\n",
       "    <tr>\n",
       "      <th>3</th>\n",
       "      <td>0.00002</td>\n",
       "      <td>0.00002</td>\n",
       "      <td>0.00002</td>\n",
       "      <td>0.00002</td>\n",
       "      <td>0.00002</td>\n",
       "      <td>0.00003</td>\n",
       "      <td>0.00003</td>\n",
       "      <td>0.00003</td>\n",
       "      <td>0.00004</td>\n",
       "      <td>0.00004</td>\n",
       "      <td>...</td>\n",
       "      <td>0.02268</td>\n",
       "      <td>0.02318</td>\n",
       "      <td>0.02363</td>\n",
       "      <td>0.02404</td>\n",
       "      <td>0.02439</td>\n",
       "      <td>0.02469</td>\n",
       "      <td>0.02494</td>\n",
       "      <td>0.02512</td>\n",
       "      <td>0.02525</td>\n",
       "      <td>0.02532</td>\n",
       "    </tr>\n",
       "    <tr>\n",
       "      <th>4</th>\n",
       "      <td>0.00002</td>\n",
       "      <td>0.00002</td>\n",
       "      <td>0.00002</td>\n",
       "      <td>0.00002</td>\n",
       "      <td>0.00003</td>\n",
       "      <td>0.00003</td>\n",
       "      <td>0.00003</td>\n",
       "      <td>0.00004</td>\n",
       "      <td>0.00004</td>\n",
       "      <td>0.00004</td>\n",
       "      <td>...</td>\n",
       "      <td>0.02536</td>\n",
       "      <td>0.02593</td>\n",
       "      <td>0.02644</td>\n",
       "      <td>0.02691</td>\n",
       "      <td>0.02731</td>\n",
       "      <td>0.02765</td>\n",
       "      <td>0.02793</td>\n",
       "      <td>0.02814</td>\n",
       "      <td>0.02829</td>\n",
       "      <td>0.02836</td>\n",
       "    </tr>\n",
       "  </tbody>\n",
       "</table>\n",
       "<p>5 rows × 100 columns</p>\n",
       "</div>"
      ],
      "text/plain": [
       "x       0        1        2        3        4        5        6        7   \\\n",
       "y                                                                           \n",
       "0  0.00001  0.00002  0.00002  0.00002  0.00002  0.00002  0.00003  0.00003   \n",
       "1  0.00001  0.00002  0.00002  0.00002  0.00002  0.00002  0.00003  0.00003   \n",
       "2  0.00002  0.00002  0.00002  0.00002  0.00002  0.00003  0.00003  0.00003   \n",
       "3  0.00002  0.00002  0.00002  0.00002  0.00002  0.00003  0.00003  0.00003   \n",
       "4  0.00002  0.00002  0.00002  0.00002  0.00003  0.00003  0.00003  0.00004   \n",
       "\n",
       "x       8        9   ...       90       91       92       93       94  \\\n",
       "y                    ...                                                \n",
       "0  0.00003  0.00003  ...  0.01619  0.01652  0.01683  0.01710  0.01734   \n",
       "1  0.00003  0.00004  ...  0.01812  0.01850  0.01885  0.01916  0.01944   \n",
       "2  0.00004  0.00004  ...  0.02027  0.02071  0.02111  0.02147  0.02178   \n",
       "3  0.00004  0.00004  ...  0.02268  0.02318  0.02363  0.02404  0.02439   \n",
       "4  0.00004  0.00004  ...  0.02536  0.02593  0.02644  0.02691  0.02731   \n",
       "\n",
       "x       95       96       97       98       99  \n",
       "y                                               \n",
       "0  0.01755  0.01771  0.01784  0.01793  0.01797  \n",
       "1  0.01967  0.01986  0.02000  0.02010  0.02015  \n",
       "2  0.02204  0.02226  0.02242  0.02253  0.02259  \n",
       "3  0.02469  0.02494  0.02512  0.02525  0.02532  \n",
       "4  0.02765  0.02793  0.02814  0.02829  0.02836  \n",
       "\n",
       "[5 rows x 100 columns]"
      ]
     },
     "execution_count": 34,
     "metadata": {},
     "output_type": "execute_result"
    }
   ],
   "source": [
    "hm_gp.head()"
   ]
  },
  {
   "cell_type": "code",
   "execution_count": 35,
   "metadata": {},
   "outputs": [
    {
     "data": {
      "image/png": "[encoded data removed]",
      "text/plain": [
       "<Figure size 432x288 with 2 Axes>"
      ]
     },
     "metadata": {
      "needs_background": "light"
     },
     "output_type": "display_data"
    }
   ],
   "source": [
    "##Guide of creating a heatmap using pivot table\n",
    "## https://stackabuse.com/ultimate-guide-to-heatmaps-in-seaborn-with-python/\n",
    "\n",
    "##Using image background:\n",
    "## https://stackoverflow.com/questions/50091591/plotting-seaborn-heatmap-on-top-of-a-background-picture\n",
    "\n",
    "\n",
    "import matplotlib.image as mpimg \n",
    "map_img = mpimg.imread('footballfield.png') \n",
    "\n",
    "## Image source: Wikipedia, no copyright issues :p\n",
    "\n",
    "heatmap = sns.heatmap(hm_gp,\n",
    "                      cmap='mako',\n",
    "                      alpha = 0.8,\n",
    "                      zorder = 2\n",
    "                     )\n",
    "\n",
    "\n",
    "heatmap.imshow(map_img,\n",
    "          aspect = heatmap.get_aspect(),\n",
    "          extent = heatmap.get_xlim() + heatmap.get_ylim(),\n",
    "          zorder = 1) #put the map under the heatmap\n",
    "\n",
    "plt.title('Probability of scoring from a point in field')\n",
    "\n",
    "plt.savefig('soccerfield.png', dpi=300, transparent=True)\n",
    "plt.show()"
   ]
  },
  {
   "cell_type": "markdown",
   "metadata": {},
   "source": [
    "## 2. Building xG model with all attributes from data"
   ]
  },
  {
   "cell_type": "markdown",
   "metadata": {},
   "source": [
    "Unlike in previous model that merely tried to understand the relationship between a point in field and the likelihood of scoring, in this model we will use all of the useful columns in the data, including the information if the shot was header or shot with feet. This model will be used for comparing different teams by how many expected goals they make on average."
   ]
  },
  {
   "cell_type": "markdown",
   "metadata": {},
   "source": [
    "### 2.1. Data"
   ]
  },
  {
   "cell_type": "code",
   "execution_count": 36,
   "metadata": {},
   "outputs": [],
   "source": [
    "#Adding all frames together, creating a simple dataset with coordinates and goals\n",
    "\n",
    "selected = ['x', 'y', 'foot','head','goal']\n",
    "frame1 = shots_world_cup[selected]\n",
    "frame2 = shots_euro_champ[selected]\n",
    "frame3 = shots_france[selected]\n",
    "frame4 = shots_spain[selected]\n",
    "frame5 = shots_italy[selected]\n",
    "frame6 = shots_germany[selected]\n",
    "traindata2 = frame1.append([frame2,frame3,frame4,frame5,frame6])\n",
    "\n",
    "#adding feet together since some are just left-legged\n",
    "traindata=traindata2[['x', 'y', 'foot','head','goal']]\n",
    "\n"
   ]
  },
  {
   "cell_type": "code",
   "execution_count": 37,
   "metadata": {},
   "outputs": [],
   "source": [
    "add_degrees(traindata)\n",
    "add_distances(traindata)"
   ]
  },
  {
   "cell_type": "code",
   "execution_count": 38,
   "metadata": {},
   "outputs": [
    {
     "data": {
      "text/html": [
       "<div>\n",
       "<style scoped>\n",
       "    .dataframe tbody tr th:only-of-type {\n",
       "        vertical-align: middle;\n",
       "    }\n",
       "\n",
       "    .dataframe tbody tr th {\n",
       "        vertical-align: top;\n",
       "    }\n",
       "\n",
       "    .dataframe thead th {\n",
       "        text-align: right;\n",
       "    }\n",
       "</style>\n",
       "<table border=\"1\" class=\"dataframe\">\n",
       "  <thead>\n",
       "    <tr style=\"text-align: right;\">\n",
       "      <th></th>\n",
       "      <th>goaldegrees</th>\n",
       "      <th>distances</th>\n",
       "      <th>foot</th>\n",
       "      <th>head</th>\n",
       "      <th>goal</th>\n",
       "    </tr>\n",
       "  </thead>\n",
       "  <tbody>\n",
       "    <tr>\n",
       "      <th>117</th>\n",
       "      <td>6.458816</td>\n",
       "      <td>26.419690</td>\n",
       "      <td>1.0</td>\n",
       "      <td>0.0</td>\n",
       "      <td>0</td>\n",
       "    </tr>\n",
       "    <tr>\n",
       "      <th>154</th>\n",
       "      <td>7.561428</td>\n",
       "      <td>21.470911</td>\n",
       "      <td>1.0</td>\n",
       "      <td>0.0</td>\n",
       "      <td>0</td>\n",
       "    </tr>\n",
       "    <tr>\n",
       "      <th>197</th>\n",
       "      <td>8.143767</td>\n",
       "      <td>24.413111</td>\n",
       "      <td>1.0</td>\n",
       "      <td>0.0</td>\n",
       "      <td>0</td>\n",
       "    </tr>\n",
       "    <tr>\n",
       "      <th>232</th>\n",
       "      <td>16.699244</td>\n",
       "      <td>12.206556</td>\n",
       "      <td>1.0</td>\n",
       "      <td>0.0</td>\n",
       "      <td>1</td>\n",
       "    </tr>\n",
       "    <tr>\n",
       "      <th>372</th>\n",
       "      <td>14.239708</td>\n",
       "      <td>18.439089</td>\n",
       "      <td>1.0</td>\n",
       "      <td>0.0</td>\n",
       "      <td>0</td>\n",
       "    </tr>\n",
       "  </tbody>\n",
       "</table>\n",
       "</div>"
      ],
      "text/plain": [
       "     goaldegrees  distances  foot  head  goal\n",
       "117     6.458816  26.419690   1.0   0.0     0\n",
       "154     7.561428  21.470911   1.0   0.0     0\n",
       "197     8.143767  24.413111   1.0   0.0     0\n",
       "232    16.699244  12.206556   1.0   0.0     1\n",
       "372    14.239708  18.439089   1.0   0.0     0"
      ]
     },
     "execution_count": 38,
     "metadata": {},
     "output_type": "execute_result"
    }
   ],
   "source": [
    "traindata1 = traindata[['goaldegrees','distances','foot','head','goal']]\n",
    "traindata1.head()"
   ]
  },
  {
   "cell_type": "code",
   "execution_count": 39,
   "metadata": {},
   "outputs": [
    {
     "data": {
      "text/plain": [
       "0    31049\n",
       "1     3578\n",
       "Name: goal, dtype: int64"
      ]
     },
     "execution_count": 39,
     "metadata": {},
     "output_type": "execute_result"
    }
   ],
   "source": [
    "traindata1['goal'].value_counts()"
   ]
  },
  {
   "cell_type": "code",
   "execution_count": 40,
   "metadata": {},
   "outputs": [
    {
     "data": {
      "text/plain": [
       "0    3578\n",
       "1    3578\n",
       "Name: goal, dtype: int64"
      ]
     },
     "execution_count": 40,
     "metadata": {},
     "output_type": "execute_result"
    }
   ],
   "source": [
    "#https://elitedatascience.com/imbalanced-classes\n",
    "\n",
    "from sklearn.utils import resample\n",
    "\n",
    "# Separate majority and minority classes\n",
    "df_majority = traindata1[traindata1.goal==0]\n",
    "df_minority = traindata1[traindata1.goal==1]\n",
    " \n",
    "# Downsample majority class\n",
    "df_majority_downsampled = resample(df_majority, \n",
    "                                 replace=False,    # sample without replacement\n",
    "                                 n_samples=3578,     # to match minority class\n",
    "                                 random_state=123) # reproducible results\n",
    " \n",
    "# Combine minority class with downsampled majority class\n",
    "goals_downsampled = pd.concat([df_majority_downsampled, df_minority])\n",
    " \n",
    "# Display new class counts\n",
    "goals_downsampled.goal.value_counts()"
   ]
  },
  {
   "cell_type": "markdown",
   "metadata": {},
   "source": [
    "### 2.2. Train test split"
   ]
  },
  {
   "cell_type": "code",
   "execution_count": 41,
   "metadata": {},
   "outputs": [],
   "source": [
    "#set x,y, train test split + randomize\n",
    "\n",
    "y = goals_downsampled['goal'].values\n",
    "X = goals_downsampled.loc[:, goals_downsampled.columns != 'goal']\n",
    "X_train, X_test, y_train, y_test = train_test_split(X, y, test_size=0.3, random_state=1)\n",
    "\n"
   ]
  },
  {
   "cell_type": "markdown",
   "metadata": {},
   "source": [
    "### 2.3. Logistic Regression"
   ]
  },
  {
   "cell_type": "code",
   "execution_count": 42,
   "metadata": {},
   "outputs": [],
   "source": [
    "#L2\n",
    "lr = LogisticRegression(solver='lbfgs').fit(X_train, y_train) #define Logistic Regression classifier\n"
   ]
  },
  {
   "cell_type": "code",
   "execution_count": 43,
   "metadata": {},
   "outputs": [
    {
     "name": "stdout",
     "output_type": "stream",
     "text": [
      "Accuracy is:  67.91\n"
     ]
    }
   ],
   "source": [
    "y_pred_lr = lr.predict(X_test)\n",
    "y_predProba_lr = lr.predict_proba(X_test)\n",
    "print (\"Accuracy is: \", (accuracy_score(y_test, y_pred_lr)*100).round(2))"
   ]
  },
  {
   "cell_type": "markdown",
   "metadata": {},
   "source": [
    "Interesting.<br>\n",
    "The accuracy has not considerably improved even when more data was introduced."
   ]
  },
  {
   "cell_type": "code",
   "execution_count": 44,
   "metadata": {
    "scrolled": true
   },
   "outputs": [
    {
     "name": "stdout",
     "output_type": "stream",
     "text": [
      "Automatically created module for IPython interactive environment\n",
      "Confusion matrix, without normalization\n",
      "[[696 364]\n",
      " [325 762]]\n",
      "Normalized confusion matrix\n",
      "[[0.66 0.34]\n",
      " [0.3  0.7 ]]\n"
     ]
    },
    {
     "data": {
      "image/png": "[encoded data removed]",
      "text/plain": [
       "<Figure size 432x288 with 2 Axes>"
      ]
     },
     "metadata": {
      "needs_background": "light"
     },
     "output_type": "display_data"
    },
    {
     "data": {
      "image/png": "[encoded data removed]",
      "text/plain": [
       "<Figure size 432x288 with 2 Axes>"
      ]
     },
     "metadata": {
      "needs_background": "light"
     },
     "output_type": "display_data"
    }
   ],
   "source": [
    "### Confusion matrix: https://scikit-learn.org/stable/auto_examples/model_selection/plot_confusion_matrix.html\n",
    "\n",
    "print(__doc__)\n",
    "\n",
    "import numpy as np\n",
    "import matplotlib.pyplot as plt\n",
    "\n",
    "from sklearn import svm, datasets\n",
    "from sklearn.model_selection import train_test_split\n",
    "from sklearn.metrics import plot_confusion_matrix\n",
    "\n",
    "class_names = ['No goal', 'Goal']\n",
    "\n",
    "np.set_printoptions(precision=2)\n",
    "\n",
    "# Plot non-normalized confusion matrix\n",
    "titles_options = [(\"Confusion matrix, without normalization\", None),\n",
    "                  (\"Normalized confusion matrix\", 'true')]\n",
    "for title, normalize in titles_options:\n",
    "    disp = plot_confusion_matrix(lr, X_test, y_test,\n",
    "                                 display_labels=class_names,\n",
    "                                 cmap=plt.cm.Blues,\n",
    "                                 normalize=normalize)\n",
    "    disp.ax_.set_title(title)\n",
    "\n",
    "    print(title)\n",
    "    print(disp.confusion_matrix)\n",
    "    \n",
    "plt.savefig('cfmatrix.png')\n",
    "plt.show()"
   ]
  },
  {
   "cell_type": "markdown",
   "metadata": {},
   "source": [
    "# "
   ]
  },
  {
   "cell_type": "markdown",
   "metadata": {},
   "source": [
    "### Testing if L1 makes a difference"
   ]
  },
  {
   "cell_type": "code",
   "execution_count": 45,
   "metadata": {},
   "outputs": [],
   "source": [
    "#Testing LR1\n",
    "lr1 = LogisticRegression(solver='liblinear', penalty=\"l1\", max_iter=10000).fit(X_train, y_train)"
   ]
  },
  {
   "cell_type": "code",
   "execution_count": 46,
   "metadata": {},
   "outputs": [
    {
     "name": "stdout",
     "output_type": "stream",
     "text": [
      "Accuracy is:  67.96\n"
     ]
    }
   ],
   "source": [
    "y_pred_lr1 = lr1.predict(X_test)\n",
    "y_predProba_lr1 = lr1.predict_proba(X_test)\n",
    "print (\"Accuracy is: \", (accuracy_score(y_test, y_pred_lr1)*100).round(2))"
   ]
  },
  {
   "cell_type": "code",
   "execution_count": 47,
   "metadata": {},
   "outputs": [
    {
     "data": {
      "text/plain": [
       "array([[696, 364],\n",
       "       [325, 762]])"
      ]
     },
     "execution_count": 47,
     "metadata": {},
     "output_type": "execute_result"
    }
   ],
   "source": [
    "confusion_matrix(y_test, y_pred_lr)"
   ]
  },
  {
   "cell_type": "markdown",
   "metadata": {},
   "source": [
    "## 3. Comparing different teams"
   ]
  },
  {
   "cell_type": "code",
   "execution_count": 48,
   "metadata": {},
   "outputs": [],
   "source": [
    "#Frame with different teams\n",
    "\n",
    "shots_france['Country']='France'\n",
    "shots_spain['Country']='Spain'\n",
    "shots_italy['Country']='Italy'\n",
    "shots_germany['Country']='Germany'\n",
    "countries_frame = shots_france.append([shots_spain,shots_italy,shots_germany])\n",
    "\n",
    "#Add degrees and distances\n",
    "add_degrees(countries_frame)\n",
    "add_distances(countries_frame)\n",
    "\n",
    "#Make another df understandable for LR\n",
    "teams= countries_frame[['goaldegrees','distances','foot','head']]"
   ]
  },
  {
   "cell_type": "code",
   "execution_count": 49,
   "metadata": {},
   "outputs": [
    {
     "data": {
      "text/html": [
       "<div>\n",
       "<style scoped>\n",
       "    .dataframe tbody tr th:only-of-type {\n",
       "        vertical-align: middle;\n",
       "    }\n",
       "\n",
       "    .dataframe tbody tr th {\n",
       "        vertical-align: top;\n",
       "    }\n",
       "\n",
       "    .dataframe thead th {\n",
       "        text-align: right;\n",
       "    }\n",
       "</style>\n",
       "<table border=\"1\" class=\"dataframe\">\n",
       "  <thead>\n",
       "    <tr style=\"text-align: right;\">\n",
       "      <th></th>\n",
       "      <th>goaldegrees</th>\n",
       "      <th>distances</th>\n",
       "      <th>foot</th>\n",
       "      <th>head</th>\n",
       "    </tr>\n",
       "  </thead>\n",
       "  <tbody>\n",
       "    <tr>\n",
       "      <th>213</th>\n",
       "      <td>25.346176</td>\n",
       "      <td>9.219544</td>\n",
       "      <td>1.0</td>\n",
       "      <td>0.0</td>\n",
       "    </tr>\n",
       "    <tr>\n",
       "      <th>302</th>\n",
       "      <td>16.515702</td>\n",
       "      <td>18.788294</td>\n",
       "      <td>1.0</td>\n",
       "      <td>0.0</td>\n",
       "    </tr>\n",
       "    <tr>\n",
       "      <th>498</th>\n",
       "      <td>23.198590</td>\n",
       "      <td>8.062258</td>\n",
       "      <td>1.0</td>\n",
       "      <td>0.0</td>\n",
       "    </tr>\n",
       "    <tr>\n",
       "      <th>577</th>\n",
       "      <td>5.042451</td>\n",
       "      <td>33.120990</td>\n",
       "      <td>1.0</td>\n",
       "      <td>0.0</td>\n",
       "    </tr>\n",
       "    <tr>\n",
       "      <th>629</th>\n",
       "      <td>12.663364</td>\n",
       "      <td>27.018512</td>\n",
       "      <td>1.0</td>\n",
       "      <td>0.0</td>\n",
       "    </tr>\n",
       "  </tbody>\n",
       "</table>\n",
       "</div>"
      ],
      "text/plain": [
       "     goaldegrees  distances  foot  head\n",
       "213    25.346176   9.219544   1.0   0.0\n",
       "302    16.515702  18.788294   1.0   0.0\n",
       "498    23.198590   8.062258   1.0   0.0\n",
       "577     5.042451  33.120990   1.0   0.0\n",
       "629    12.663364  27.018512   1.0   0.0"
      ]
     },
     "execution_count": 49,
     "metadata": {},
     "output_type": "execute_result"
    }
   ],
   "source": [
    "teams.head()"
   ]
  },
  {
   "cell_type": "code",
   "execution_count": 50,
   "metadata": {},
   "outputs": [
    {
     "data": {
      "text/html": [
       "<div>\n",
       "<style scoped>\n",
       "    .dataframe tbody tr th:only-of-type {\n",
       "        vertical-align: middle;\n",
       "    }\n",
       "\n",
       "    .dataframe tbody tr th {\n",
       "        vertical-align: top;\n",
       "    }\n",
       "\n",
       "    .dataframe thead th {\n",
       "        text-align: right;\n",
       "    }\n",
       "</style>\n",
       "<table border=\"1\" class=\"dataframe\">\n",
       "  <thead>\n",
       "    <tr style=\"text-align: right;\">\n",
       "      <th></th>\n",
       "      <th>x</th>\n",
       "      <th>y</th>\n",
       "      <th>goal</th>\n",
       "      <th>head</th>\n",
       "      <th>foot</th>\n",
       "      <th>Country</th>\n",
       "      <th>goaldegrees</th>\n",
       "      <th>distances</th>\n",
       "    </tr>\n",
       "  </thead>\n",
       "  <tbody>\n",
       "    <tr>\n",
       "      <th>213</th>\n",
       "      <td>94</td>\n",
       "      <td>57</td>\n",
       "      <td>1</td>\n",
       "      <td>0.0</td>\n",
       "      <td>1.0</td>\n",
       "      <td>France</td>\n",
       "      <td>25.346176</td>\n",
       "      <td>9.219544</td>\n",
       "    </tr>\n",
       "    <tr>\n",
       "      <th>302</th>\n",
       "      <td>83</td>\n",
       "      <td>42</td>\n",
       "      <td>0</td>\n",
       "      <td>0.0</td>\n",
       "      <td>1.0</td>\n",
       "      <td>France</td>\n",
       "      <td>16.515702</td>\n",
       "      <td>18.788294</td>\n",
       "    </tr>\n",
       "    <tr>\n",
       "      <th>498</th>\n",
       "      <td>96</td>\n",
       "      <td>43</td>\n",
       "      <td>1</td>\n",
       "      <td>0.0</td>\n",
       "      <td>1.0</td>\n",
       "      <td>France</td>\n",
       "      <td>23.198590</td>\n",
       "      <td>8.062258</td>\n",
       "    </tr>\n",
       "    <tr>\n",
       "      <th>577</th>\n",
       "      <td>84</td>\n",
       "      <td>21</td>\n",
       "      <td>0</td>\n",
       "      <td>0.0</td>\n",
       "      <td>1.0</td>\n",
       "      <td>France</td>\n",
       "      <td>5.042451</td>\n",
       "      <td>33.120990</td>\n",
       "    </tr>\n",
       "    <tr>\n",
       "      <th>629</th>\n",
       "      <td>73</td>\n",
       "      <td>51</td>\n",
       "      <td>0</td>\n",
       "      <td>0.0</td>\n",
       "      <td>1.0</td>\n",
       "      <td>France</td>\n",
       "      <td>12.663364</td>\n",
       "      <td>27.018512</td>\n",
       "    </tr>\n",
       "  </tbody>\n",
       "</table>\n",
       "</div>"
      ],
      "text/plain": [
       "      x   y  goal  head  foot Country  goaldegrees  distances\n",
       "213  94  57     1   0.0   1.0  France    25.346176   9.219544\n",
       "302  83  42     0   0.0   1.0  France    16.515702  18.788294\n",
       "498  96  43     1   0.0   1.0  France    23.198590   8.062258\n",
       "577  84  21     0   0.0   1.0  France     5.042451  33.120990\n",
       "629  73  51     0   0.0   1.0  France    12.663364  27.018512"
      ]
     },
     "execution_count": 50,
     "metadata": {},
     "output_type": "execute_result"
    }
   ],
   "source": [
    "countries_frame.head()"
   ]
  },
  {
   "cell_type": "code",
   "execution_count": 51,
   "metadata": {},
   "outputs": [
    {
     "name": "stdout",
     "output_type": "stream",
     "text": [
      "[0.71618, 0.438, 0.7401, 0.11946, 0.22528]\n",
      "[1, 0, 1, 0, 0]\n"
     ]
    }
   ],
   "source": [
    "#Generating predictions for all of the teams using LR\n",
    "\n",
    "lenght = len(teams)\n",
    "\n",
    "probabilities = []\n",
    "ex_goals = []\n",
    "counter = -1\n",
    "\n",
    "for x in range(0,lenght):\n",
    "    counter = counter + 1\n",
    "    p = lr.predict_proba(teams.iloc[[counter]])\n",
    "    r = p[0][1]\n",
    "    f = round(r, 5)\n",
    "    exgoal = lr.predict(teams.iloc[[counter]])\n",
    "    probabilities.append(f)\n",
    "    ex_goals.append(exgoal[0])\n",
    "    \n",
    "\n",
    "#Test\n",
    "print(probabilities[:5])\n",
    "print(ex_goals[:5])\n"
   ]
  },
  {
   "cell_type": "code",
   "execution_count": 52,
   "metadata": {},
   "outputs": [
    {
     "name": "stderr",
     "output_type": "stream",
     "text": [
      "<ipython-input-52-1f77f6383925>:2: SettingWithCopyWarning: \n",
      "A value is trying to be set on a copy of a slice from a DataFrame.\n",
      "Try using .loc[row_indexer,col_indexer] = value instead\n",
      "\n",
      "See the caveats in the documentation: https://pandas.pydata.org/pandas-docs/stable/user_guide/indexing.html#returning-a-view-versus-a-copy\n",
      "  comparison_frame['Goal_prediction'] = ex_goals\n",
      "<ipython-input-52-1f77f6383925>:3: SettingWithCopyWarning: \n",
      "A value is trying to be set on a copy of a slice from a DataFrame.\n",
      "Try using .loc[row_indexer,col_indexer] = value instead\n",
      "\n",
      "See the caveats in the documentation: https://pandas.pydata.org/pandas-docs/stable/user_guide/indexing.html#returning-a-view-versus-a-copy\n",
      "  comparison_frame['P(Scoring)'] = probabilities\n"
     ]
    }
   ],
   "source": [
    "comparison_frame = countries_frame[['Country', 'goal']]\n",
    "comparison_frame['Goal_prediction'] = ex_goals\n",
    "comparison_frame['P(Scoring)'] = probabilities\n"
   ]
  },
  {
   "cell_type": "code",
   "execution_count": 53,
   "metadata": {},
   "outputs": [
    {
     "data": {
      "text/html": [
       "<div>\n",
       "<style scoped>\n",
       "    .dataframe tbody tr th:only-of-type {\n",
       "        vertical-align: middle;\n",
       "    }\n",
       "\n",
       "    .dataframe tbody tr th {\n",
       "        vertical-align: top;\n",
       "    }\n",
       "\n",
       "    .dataframe thead th {\n",
       "        text-align: right;\n",
       "    }\n",
       "</style>\n",
       "<table border=\"1\" class=\"dataframe\">\n",
       "  <thead>\n",
       "    <tr style=\"text-align: right;\">\n",
       "      <th></th>\n",
       "      <th>Country</th>\n",
       "      <th>goal</th>\n",
       "      <th>Goal_prediction</th>\n",
       "      <th>P(Scoring)</th>\n",
       "    </tr>\n",
       "  </thead>\n",
       "  <tbody>\n",
       "    <tr>\n",
       "      <th>213</th>\n",
       "      <td>France</td>\n",
       "      <td>1</td>\n",
       "      <td>1</td>\n",
       "      <td>0.71618</td>\n",
       "    </tr>\n",
       "    <tr>\n",
       "      <th>302</th>\n",
       "      <td>France</td>\n",
       "      <td>0</td>\n",
       "      <td>0</td>\n",
       "      <td>0.43800</td>\n",
       "    </tr>\n",
       "    <tr>\n",
       "      <th>498</th>\n",
       "      <td>France</td>\n",
       "      <td>1</td>\n",
       "      <td>1</td>\n",
       "      <td>0.74010</td>\n",
       "    </tr>\n",
       "    <tr>\n",
       "      <th>577</th>\n",
       "      <td>France</td>\n",
       "      <td>0</td>\n",
       "      <td>0</td>\n",
       "      <td>0.11946</td>\n",
       "    </tr>\n",
       "    <tr>\n",
       "      <th>629</th>\n",
       "      <td>France</td>\n",
       "      <td>0</td>\n",
       "      <td>0</td>\n",
       "      <td>0.22528</td>\n",
       "    </tr>\n",
       "  </tbody>\n",
       "</table>\n",
       "</div>"
      ],
      "text/plain": [
       "    Country  goal  Goal_prediction  P(Scoring)\n",
       "213  France     1                1     0.71618\n",
       "302  France     0                0     0.43800\n",
       "498  France     1                1     0.74010\n",
       "577  France     0                0     0.11946\n",
       "629  France     0                0     0.22528"
      ]
     },
     "execution_count": 53,
     "metadata": {},
     "output_type": "execute_result"
    }
   ],
   "source": [
    "comparison_frame.head()"
   ]
  },
  {
   "cell_type": "code",
   "execution_count": 54,
   "metadata": {},
   "outputs": [],
   "source": [
    "def c_avg(co,attr):\n",
    "    selected = comparison_frame.loc[comparison_frame['Country'] == co]\n",
    "    return selected[attr].mean()\n"
   ]
  },
  {
   "cell_type": "code",
   "execution_count": 55,
   "metadata": {},
   "outputs": [
    {
     "data": {
      "text/html": [
       "<div>\n",
       "<style scoped>\n",
       "    .dataframe tbody tr th:only-of-type {\n",
       "        vertical-align: middle;\n",
       "    }\n",
       "\n",
       "    .dataframe tbody tr th {\n",
       "        vertical-align: top;\n",
       "    }\n",
       "\n",
       "    .dataframe thead th {\n",
       "        text-align: right;\n",
       "    }\n",
       "</style>\n",
       "<table border=\"1\" class=\"dataframe\">\n",
       "  <thead>\n",
       "    <tr style=\"text-align: right;\">\n",
       "      <th></th>\n",
       "      <th>Country</th>\n",
       "      <th>Avg_goals</th>\n",
       "      <th>Goal_pred</th>\n",
       "      <th>Exp_goals</th>\n",
       "    </tr>\n",
       "  </thead>\n",
       "  <tbody>\n",
       "    <tr>\n",
       "      <th>0</th>\n",
       "      <td>France</td>\n",
       "      <td>10.483968</td>\n",
       "      <td>36.819983</td>\n",
       "      <td>41.185126</td>\n",
       "    </tr>\n",
       "    <tr>\n",
       "      <th>1</th>\n",
       "      <td>Spain</td>\n",
       "      <td>11.079083</td>\n",
       "      <td>39.127710</td>\n",
       "      <td>42.628054</td>\n",
       "    </tr>\n",
       "    <tr>\n",
       "      <th>2</th>\n",
       "      <td>Germany</td>\n",
       "      <td>10.829226</td>\n",
       "      <td>39.156277</td>\n",
       "      <td>42.989772</td>\n",
       "    </tr>\n",
       "    <tr>\n",
       "      <th>3</th>\n",
       "      <td>Italy</td>\n",
       "      <td>9.686577</td>\n",
       "      <td>34.908017</td>\n",
       "      <td>40.742073</td>\n",
       "    </tr>\n",
       "  </tbody>\n",
       "</table>\n",
       "</div>"
      ],
      "text/plain": [
       "   Country  Avg_goals  Goal_pred  Exp_goals\n",
       "0   France  10.483968  36.819983  41.185126\n",
       "1    Spain  11.079083  39.127710  42.628054\n",
       "2  Germany  10.829226  39.156277  42.989772\n",
       "3    Italy   9.686577  34.908017  40.742073"
      ]
     },
     "execution_count": 55,
     "metadata": {},
     "output_type": "execute_result"
    }
   ],
   "source": [
    "c_dict = {'Country': ['France','Spain','Germany','Italy'],\n",
    "                 'Avg_goals': [c_avg('France','goal'), c_avg('Spain','goal'),c_avg('Germany','goal'),c_avg('Italy','goal')],\n",
    "                 'Goal_pred': [c_avg('France','Goal_prediction'), c_avg('Spain','Goal_prediction'),c_avg('Germany','Goal_prediction'),c_avg('Italy','Goal_prediction')],\n",
    "                 'Exp_goals': [c_avg('France','P(Scoring)'), c_avg('Spain','P(Scoring)'),c_avg('Germany','P(Scoring)'),c_avg('Italy','P(Scoring)')],\n",
    "\n",
    "                }\n",
    "countryvalues = pd.DataFrame (c_dict, columns = ['Country','Avg_goals','Goal_pred','Exp_goals'])\n",
    "c = (countryvalues.select_dtypes(exclude=['object'])).multiply(100)\n",
    "c['Country'] = countryvalues['Country']\n",
    "countries_percentage = c[['Country','Avg_goals','Goal_pred','Exp_goals']]\n",
    "\n",
    "countries_percentage.head()\n"
   ]
  },
  {
   "cell_type": "code",
   "execution_count": 57,
   "metadata": {},
   "outputs": [
    {
     "data": {
      "image/png": "[encoded data removed]",
      "text/plain": [
       "<Figure size 432x288 with 1 Axes>"
      ]
     },
     "metadata": {
      "needs_background": "light"
     },
     "output_type": "display_data"
    }
   ],
   "source": [
    "##https://matplotlib.org/stable/gallery/lines_bars_and_markers/barchart.html\n",
    "\n",
    "\n",
    "labels = countries_percentage['Country'].tolist()\n",
    "avg = countries_percentage['Avg_goals'].tolist()\n",
    "exp = countries_percentage['Exp_goals'].tolist()\n",
    "\n",
    "x = np.arange(len(labels))  # the label locations\n",
    "width = 0.35  # the width of the bars\n",
    "\n",
    "fig, ax = plt.subplots()\n",
    "rects1 = ax.bar(x - width/2, avg, width, label='Goals per attempt')\n",
    "rects2 = ax.bar(x + width/2, exp, width, label='Expected goals per attempt')\n",
    "\n",
    "# Add some text for labels, title and custom x-axis tick labels, etc.\n",
    "ax.set_ylabel('Percentage')\n",
    "ax.set_title('Comparison of countries')\n",
    "ax.set_xticks(x)\n",
    "ax.set_xticklabels(labels)\n",
    "ax.set(ylim=(0, 45))\n",
    "ax.legend()\n",
    "\n",
    "\n",
    "fig.tight_layout()\n",
    "\n",
    "plt.savefig('countries.png', dpi=300, transparent=True)\n",
    "plt.show()"
   ]
  },
  {
   "cell_type": "code",
   "execution_count": null,
   "metadata": {},
   "outputs": [],
   "source": []
  },
  {
   "cell_type": "code",
   "execution_count": null,
   "metadata": {},
   "outputs": [],
   "source": []
  },
  {
   "cell_type": "code",
   "execution_count": null,
   "metadata": {},
   "outputs": [],
   "source": []
  },
  {
   "cell_type": "code",
   "execution_count": null,
   "metadata": {},
   "outputs": [],
   "source": []
  }
 ],
 "metadata": {
  "kernelspec": {
   "display_name": "Python 3",
   "language": "python",
   "name": "python3"
  },
  "language_info": {
   "codemirror_mode": {
    "name": "ipython",
    "version": 3
   },
   "file_extension": ".py",
   "mimetype": "text/x-python",
   "name": "python",
   "nbconvert_exporter": "python",
   "pygments_lexer": "ipython3",
   "version": "3.8.8"
  },
  "varInspector": {
   "cols": {
    "lenName": 16,
    "lenType": 16,
    "lenVar": 40
   },
   "kernels_config": {
    "python": {
     "delete_cmd_postfix": "",
     "delete_cmd_prefix": "del ",
     "library": "var_list.py",
     "varRefreshCmd": "print(var_dic_list())"
    },
    "r": {
     "delete_cmd_postfix": ") ",
     "delete_cmd_prefix": "rm(",
     "library": "var_list.r",
     "varRefreshCmd": "cat(var_dic_list()) "
    }
   },
   "types_to_exclude": [
    "module",
    "function",
    "builtin_function_or_method",
    "instance",
    "_Feature"
   ],
   "window_display": false
  }
 },
 "nbformat": 4,
 "nbformat_minor": 4
}
